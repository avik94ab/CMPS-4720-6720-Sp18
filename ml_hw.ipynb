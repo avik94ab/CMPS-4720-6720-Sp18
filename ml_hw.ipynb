{
 "cells": [
  {
   "cell_type": "code",
   "execution_count": 1,
   "metadata": {},
   "outputs": [
    {
     "ename": "SyntaxError",
     "evalue": "invalid syntax (<ipython-input-1-c23346aa557b>, line 1)",
     "output_type": "error",
     "traceback": [
      "\u001b[0;36m  File \u001b[0;32m\"<ipython-input-1-c23346aa557b>\"\u001b[0;36m, line \u001b[0;32m1\u001b[0m\n\u001b[0;31m    *()\u001b[0m\n\u001b[0m    ^\u001b[0m\n\u001b[0;31mSyntaxError\u001b[0m\u001b[0;31m:\u001b[0m invalid syntax\n"
     ]
    }
   ],
   "source": [
    "/* \n",
    "\n",
    "Machine Learning Assignment-Implement your own classification algorithm\n",
    "\n",
    "Due Data: 02/15/2018\n",
    "\n",
    "\n",
    "*/"
   ]
  },
  {
   "cell_type": "code",
   "execution_count": 2,
   "metadata": {
    "collapsed": true
   },
   "outputs": [],
   "source": [
    "def activation(x):\n",
    "    if x>=0:\n",
    "        return 1\n",
    "    else:\n",
    "        return -1"
   ]
  },
  {
   "cell_type": "code",
   "execution_count": 3,
   "metadata": {
    "collapsed": true
   },
   "outputs": [],
   "source": [
    "def algorithm(data):\n",
    "    weights=[]\n",
    "    inputs=data[0:len(data)-1]\n",
    "    label=data[len(data)-1:len(data)]\n",
    "    print \"Total no. of attributes %d\"%(len(data))\n",
    "    print data\n",
    "    adder=0\n",
    "    for i in range(1,len(data)):\n",
    "        weights.append(0)\n",
    "    for i in range (1,len(data)):\n",
    "        adder += inputs[i-1]*weights[i-1]\n",
    "    guess=activation(adder)\n",
    "    error=guess-int(label[0])\n",
    "    return(error)       "
   ]
  },
  {
   "cell_type": "code",
   "execution_count": 4,
   "metadata": {},
   "outputs": [
    {
     "name": "stdout",
     "output_type": "stream",
     "text": [
      "Total no. of attributes 23\n",
      "[1, 1, 0, 0, 1, 1, 0, 0, 0, 1, 1, 0, 0, 0, 1, 1, 1, 0, 0, 1, 1, 0, 0]\n",
      "1\n"
     ]
    }
   ],
   "source": [
    "data=[1,1,0,0,1,1,0,0,0,1,1,0,0,0,1,1,1,0,0,1,1,0,0]\n",
    "print algorithm(data)"
   ]
  },
  {
   "cell_type": "code",
   "execution_count": 47,
   "metadata": {},
   "outputs": [
    {
     "name": "stdout",
     "output_type": "stream",
     "text": [
      "[['1' '1' '0' ..., '1' '0' '0']\n",
      " ['1' '1' '0' ..., '0' '0' '0']\n",
      " ['1' '0' '0' ..., '0' '0' '1']\n",
      " ..., \n",
      " ['0' '1' '0' ..., '0' '0' '0']\n",
      " ['0' '1' '0' ..., '0' '0' '0']\n",
      " ['0' '0' '0' ..., '0' '0' '0']]\n",
      "(187, 23)\n"
     ]
    }
   ],
   "source": [
    "import csv\n",
    "import numpy as np\n",
    "file = open('text.txt', 'rb')\n",
    "data = csv.reader(file, delimiter=',')\n",
    "table = [row for row in data]\n",
    "table=np.asarray(table)\n",
    "print table\n",
    "a=table.shape\n",
    "print a\n",
    "for "
   ]
  },
  {
   "cell_type": "code",
   "execution_count": 44,
   "metadata": {},
   "outputs": [
    {
     "data": {
      "text/plain": [
       "'1'"
      ]
     },
     "execution_count": 44,
     "metadata": {},
     "output_type": "execute_result"
    }
   ],
   "source": [
    "table[1][1]"
   ]
  },
  {
   "cell_type": "code",
   "execution_count": 38,
   "metadata": {},
   "outputs": [],
   "source": [
    "import numpy as np\n",
    "table=np.asarray(table)"
   ]
  },
  {
   "cell_type": "code",
   "execution_count": 39,
   "metadata": {},
   "outputs": [
    {
     "data": {
      "text/plain": [
       "array([['1', '1', '0', ..., '1', '0', '0'],\n",
       "       ['1', '1', '0', ..., '0', '0', '0'],\n",
       "       ['1', '0', '0', ..., '0', '0', '1'],\n",
       "       ..., \n",
       "       ['0', '1', '0', ..., '0', '0', '0'],\n",
       "       ['0', '1', '0', ..., '0', '0', '0'],\n",
       "       ['0', '0', '0', ..., '0', '0', '0']],\n",
       "      dtype='|S1')"
      ]
     },
     "execution_count": 39,
     "metadata": {},
     "output_type": "execute_result"
    }
   ],
   "source": []
  },
  {
   "cell_type": "code",
   "execution_count": 40,
   "metadata": {},
   "outputs": [
    {
     "name": "stdout",
     "output_type": "stream",
     "text": [
      "[['1' '1' '0' ..., '1' '0' '0']\n",
      " ['1' '1' '0' ..., '0' '0' '0']\n",
      " ['1' '0' '0' ..., '0' '0' '1']\n",
      " ..., \n",
      " ['0' '1' '0' ..., '0' '0' '0']\n",
      " ['0' '1' '0' ..., '0' '0' '0']\n",
      " ['0' '0' '0' ..., '0' '0' '0']]\n"
     ]
    }
   ],
   "source": [
    "print table"
   ]
  },
  {
   "cell_type": "code",
   "execution_count": null,
   "metadata": {
    "collapsed": true
   },
   "outputs": [],
   "source": []
  }
 ],
 "metadata": {
  "kernelspec": {
   "display_name": "Python 2",
   "language": "python",
   "name": "python2"
  },
  "language_info": {
   "codemirror_mode": {
    "name": "ipython",
    "version": 2
   },
   "file_extension": ".py",
   "mimetype": "text/x-python",
   "name": "python",
   "nbconvert_exporter": "python",
   "pygments_lexer": "ipython2",
   "version": "2.7.14"
  }
 },
 "nbformat": 4,
 "nbformat_minor": 2
}
