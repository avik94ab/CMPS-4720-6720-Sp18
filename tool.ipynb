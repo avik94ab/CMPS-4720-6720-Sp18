{
 "cells": [
  {
   "cell_type": "code",
   "execution_count": 1,
   "metadata": {
    "collapsed": true
   },
   "outputs": [],
   "source": [
    "import numpy as np\n",
    "import matplotlib.pyplot as plt\n",
    "from sklearn import svm\n",
    "import sklearn\n",
    "import pandas as pd\n",
    "from sklearn.model_selection import train_test_split"
   ]
  },
  {
   "cell_type": "code",
   "execution_count": 2,
   "metadata": {},
   "outputs": [
    {
     "name": "stdout",
     "output_type": "stream",
     "text": [
      "Seperating the columns of attributes and targets......\n"
     ]
    }
   ],
   "source": [
    "df1=pd.read_csv(\"iris.csv\")\n",
    "data=df1.values\n",
    "print \"Seperating the columns of attributes and targets......\"\n",
    "X= data[:, :4]\n",
    "y=data[:,4:5]\n"
   ]
  },
  {
   "cell_type": "code",
   "execution_count": 3,
   "metadata": {},
   "outputs": [
    {
     "name": "stdout",
     "output_type": "stream",
     "text": [
      "Randomly generating the train (70%) and test (30%) samples for you......\n",
      "Building your SVM model for classification\n",
      "========= C = 1, gamma = 0.7 =========\n"
     ]
    }
   ],
   "source": [
    "print \"Randomly generating the train (70%) and test (30%) samples for you......\"\n",
    "X_train, X_test, y_train, y_test = train_test_split(X, y, test_size=0.3, random_state=0)\n",
    "print \"Building your SVM model for classification\"\n",
    "kernel='rbf'\n",
    "gamma=0.7\n",
    "C=1\n",
    "model_svm= svm.SVC(kernel=kernel, gamma=gamma, C=C)\n",
    "\n",
    "print \"========= C = %d, gamma = %s =========\" % (C, gamma)\n"
   ]
  },
  {
   "cell_type": "code",
   "execution_count": 4,
   "metadata": {},
   "outputs": [
    {
     "name": "stdout",
     "output_type": "stream",
     "text": [
      "Training on 70% and then testing on the rest 30%\n",
      "Training complete!!\n",
      "Prediction complete!!\n"
     ]
    }
   ],
   "source": [
    "print \"Training on 70% and then testing on the rest 30%\"\n",
    "output_labels=model_svm.fit(X_train, (y_train.ravel())).predict(X_test)\n",
    "print \"Training complete!!\"\n",
    "print \"Prediction complete!!\""
   ]
  },
  {
   "cell_type": "code",
   "execution_count": 5,
   "metadata": {},
   "outputs": [
    {
     "name": "stdout",
     "output_type": "stream",
     "text": [
      "Test Accuracy:\n",
      "91.1111111111\n",
      "%\n"
     ]
    }
   ],
   "source": [
    "print \"Test Accuracy:\"\n",
    "print (sklearn.metrics.accuracy_score(y_test, output_labels)*100.00)\n",
    "print \"%\"\n"
   ]
  },
  {
   "cell_type": "code",
   "execution_count": null,
   "metadata": {
    "collapsed": true
   },
   "outputs": [],
   "source": []
  }
 ],
 "metadata": {
  "kernelspec": {
   "display_name": "Python 2",
   "language": "python",
   "name": "python2"
  },
  "language_info": {
   "codemirror_mode": {
    "name": "ipython",
    "version": 2
   },
   "file_extension": ".py",
   "mimetype": "text/x-python",
   "name": "python",
   "nbconvert_exporter": "python",
   "pygments_lexer": "ipython2",
   "version": "2.7.14"
  }
 },
 "nbformat": 4,
 "nbformat_minor": 2
}
