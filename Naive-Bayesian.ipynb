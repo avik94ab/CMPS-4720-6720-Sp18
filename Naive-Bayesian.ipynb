{
 "cells": [
  {
   "cell_type": "code",
   "execution_count": 9,
   "metadata": {
    "collapsed": true
   },
   "outputs": [],
   "source": [
    "import pandas as pd\n",
    "import numpy as np"
   ]
  },
  {
   "cell_type": "code",
   "execution_count": 10,
   "metadata": {
    "collapsed": true
   },
   "outputs": [],
   "source": [
    "def read_source(filename):\n",
    "    df1=pd.read_csv(filename, header=None)\n",
    "    data=df1.values\n",
    "    return data"
   ]
  },
  {
   "cell_type": "code",
   "execution_count": 54,
   "metadata": {},
   "outputs": [],
   "source": [
    "def prior_prob(data):\n",
    "    c1=0\n",
    "    c0=0\n",
    "    s=(2,2*np.shape(data)[1])\n",
    "    param=np.zeros(s)\n",
    "    \n",
    "    for i in range(0,len(data)):\n",
    "        if(data[i][0]==1):\n",
    "            c1+=1\n",
    "        else:\n",
    "            c0+=1\n",
    "    j=0\n",
    "    l=0\n",
    "    j=0\n",
    "    s_0=(c0,np.shape(data)[1])\n",
    "    s_1=(c1,np.shape(data)[1])\n",
    "    data_neg=np.zeros(s_0)\n",
    "    data_pos=np.zeros(s_1)\n",
    "    for i in range(0,len(data)):\n",
    "        if(data[i][0]==1):\n",
    "            for k in range(0,np.shape(data)[1]):\n",
    "                data_pos[j][k]=data[i][k]\n",
    "            j=j+1\n",
    "    j=0\n",
    "    for i in range(0,len(data)):\n",
    "        if(data[i][0]==0):\n",
    "            for k in range(0,np.shape(data)[1]):\n",
    "                data_neg[j][k]=data[i][k]\n",
    "            j=j+1\n",
    "            \n",
    "    return (c1*1.0/(i+1),c0*1.0/(i+1))"
   ]
  },
  {
   "cell_type": "code",
   "execution_count": 55,
   "metadata": {},
   "outputs": [
    {
     "name": "stdout",
     "output_type": "stream",
     "text": [
      "(0.5, 0.5)\n"
     ]
    }
   ],
   "source": [
    "data=prior_prob(read_source('train.txt'))\n",
    "print data"
   ]
  },
  {
   "cell_type": "code",
   "execution_count": null,
   "metadata": {
    "collapsed": true
   },
   "outputs": [],
   "source": []
  }
 ],
 "metadata": {
  "kernelspec": {
   "display_name": "Python 2",
   "language": "python",
   "name": "python2"
  },
  "language_info": {
   "codemirror_mode": {
    "name": "ipython",
    "version": 2
   },
   "file_extension": ".py",
   "mimetype": "text/x-python",
   "name": "python",
   "nbconvert_exporter": "python",
   "pygments_lexer": "ipython2",
   "version": "2.7.14"
  }
 },
 "nbformat": 4,
 "nbformat_minor": 2
}
