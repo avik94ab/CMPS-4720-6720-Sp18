{
 "cells": [
  {
   "cell_type": "code",
   "execution_count": 15,
   "metadata": {},
   "outputs": [],
   "source": [
    "import pandas as pd\n",
    "import numpy as np"
   ]
  },
  {
   "cell_type": "code",
   "execution_count": 16,
   "metadata": {},
   "outputs": [],
   "source": [
    "'''\n",
    "Function to return a feature set and labels ready to train classifier \n",
    "'''\n",
    "def read_source(filename):\n",
    "    df1=pd.read_csv(filename, header=None)\n",
    "    data=df1.values\n",
    "    '''\n",
    "    for loop used below swaps first and last column because initially\n",
    "    the model was developed considering the last column to be label,\n",
    "    so modified it to keep up with the pattern earlier developed\n",
    "    '''\n",
    "    for i in range (0,len(data)):\n",
    "        temp=data[i][0]\n",
    "        data[i][0]=data[i][np.shape(data)[1]-1]\n",
    "        data[i][np.shape(data)[1]-1]=temp\n",
    "    s=(np.shape(data)[0],np.shape(data)[1]+1)\n",
    "    a=np.ones(s)\n",
    "    '''\n",
    "    \n",
    "    '''\n",
    "    '''\n",
    "    for i in range(0,len(data)):\n",
    "        if (data[i][np.shape(data)[1]-1]==0):\n",
    "            data[i][np.shape(data)[1]-1]=0\n",
    "    '''\n",
    "    '''\n",
    "    padding extra 1s at x0 positions\n",
    "    '''\n",
    "\n",
    "    '''\n",
    "    Return totally processed feature set and labels in the sense that the x0 is \n",
    "    padded with 1 and the last column is made the labels.\n",
    "    '''\n",
    "    return data"
   ]
  },
  {
   "cell_type": "code",
   "execution_count": 17,
   "metadata": {},
   "outputs": [],
   "source": [
    "train_data=read_source('train.txt')\n",
    "test_data=read_source('test.txt')"
   ]
  },
  {
   "cell_type": "code",
   "execution_count": 18,
   "metadata": {},
   "outputs": [
    {
     "name": "stdout",
     "output_type": "stream",
     "text": [
      "We have 80 training and 187 testing examples\n"
     ]
    }
   ],
   "source": [
    "print \"We have %d training and %d testing examples\" %(len(train_data),len(test_data))"
   ]
  },
  {
   "cell_type": "code",
   "execution_count": 19,
   "metadata": {},
   "outputs": [],
   "source": [
    "s = (22,2)\n",
    "a1 = np.zeros(s)\n",
    "for j in range(0,22):\n",
    "    c=0\n",
    "    for i in range(0,40):\n",
    "        if train_data[i][j]==1:\n",
    "            c = c + 1\n",
    "        a1[j][1]=c/40.0\n",
    "        a1[j][0]=1-c/40.0\n",
    "a0=np.zeros(s)\n",
    "for j in range(0,22):\n",
    "    c=0\n",
    "    for i in range(40,80):\n",
    "        if train_data[i][j]==1:\n",
    "            c = c + 1\n",
    "        a0[j][1]=c/40.0\n",
    "        a0[j][0]=1-c/40.0        "
   ]
  },
  {
   "cell_type": "code",
   "execution_count": 20,
   "metadata": {},
   "outputs": [
    {
     "name": "stdout",
     "output_type": "stream",
     "text": [
      "0.486631016043\n"
     ]
    }
   ],
   "source": [
    "for i in range(len(a0)):\n",
    "    for j in range(2):\n",
    "        if a0[i][j]==0:\n",
    "            a0[i][j]=1.0/(40+1)\n",
    "            \n",
    "for i in range(len(a1)):\n",
    "    for j in range(2):\n",
    "        if a1[i][j]==0:\n",
    "            a1[i][j]=1.0/(40+1)\n",
    "size = (len(test_data),2)\n",
    "s = np.zeros(size)\n",
    "\n",
    "for i in range(len(test_data)):\n",
    "    s0=1\n",
    "    s1=1\n",
    "    for j in range(22):\n",
    "        if test_data[i][j]==1:\n",
    "            s1=0.5 * a1[j][1]\n",
    "            s0=0.5 * a0[j][1]\n",
    "        else:\n",
    "            s1=0.5 * a1[j][0]\n",
    "            s0=0.5 * a0[j][0]\n",
    "        s[i][0]=s0\n",
    "        s[i][1]=s1\n",
    "output = []\n",
    "for i in range(len(s)):\n",
    "    if s[i][0]>s[i][1]:\n",
    "        output.append(0)\n",
    "    else:\n",
    "        output.append(1)\n",
    "count = 0\n",
    "for i in range(len(output)):\n",
    "    if output[i]==test_data[i][22]:\n",
    "        count = count + 1\n",
    "print count*1.0/(len(output))\n",
    "        \n",
    "        "
   ]
  },
  {
   "cell_type": "code",
   "execution_count": null,
   "metadata": {},
   "outputs": [],
   "source": [
    "\n",
    "            \n",
    "            "
   ]
  },
  {
   "cell_type": "code",
   "execution_count": null,
   "metadata": {},
   "outputs": [],
   "source": []
  }
 ],
 "metadata": {
  "kernelspec": {
   "display_name": "Python 2",
   "language": "python",
   "name": "python2"
  },
  "language_info": {
   "codemirror_mode": {
    "name": "ipython",
    "version": 2
   },
   "file_extension": ".py",
   "mimetype": "text/x-python",
   "name": "python",
   "nbconvert_exporter": "python",
   "pygments_lexer": "ipython2",
   "version": "2.7.14"
  }
 },
 "nbformat": 4,
 "nbformat_minor": 2
}
