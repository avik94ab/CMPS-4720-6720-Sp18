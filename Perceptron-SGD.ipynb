{
 "cells": [
  {
   "cell_type": "markdown",
   "metadata": {},
   "source": [
    "# Machine Learning Homework- Simple Perceptron\n",
    "\n",
    "Due Date-02/15/18\n",
    "\n",
    "Avik Bhattacharya\n"
   ]
  },
  {
   "cell_type": "markdown",
   "metadata": {},
   "source": [
    "# Information about the datasets:\n",
    "\n",
    "Training set file is named as train.txt\n",
    "\n",
    "Testing set file is named as test.txt\n",
    "\n",
    "Both files are in the same folder as the notebook\n",
    "\n",
    "The code will output a pdf file. Please see that also.\n",
    "\n",
    "The packages used here are for matrix manipulations, data reading and plotting. \n"
   ]
  },
  {
   "cell_type": "code",
   "execution_count": 1,
   "metadata": {},
   "outputs": [
    {
     "name": "stdout",
     "output_type": "stream",
     "text": [
      "===Importing the necessary libraries for the project===\n"
     ]
    }
   ],
   "source": [
    "print '===Importing the necessary libraries for the project==='\n",
    "import numpy as np\n",
    "import pandas as pd\n",
    "import matplotlib.pyplot as plt  "
   ]
  },
  {
   "cell_type": "markdown",
   "metadata": {},
   "source": [
    "# Necessary Functions Defined\n",
    "\n",
    "The sign function is used as activation function"
   ]
  },
  {
   "cell_type": "code",
   "execution_count": 2,
   "metadata": {
    "collapsed": true
   },
   "outputs": [],
   "source": [
    "def activation(x):\n",
    "    if x>=1:\n",
    "        return 1\n",
    "    else:\n",
    "        return -1"
   ]
  },
  {
   "cell_type": "code",
   "execution_count": 3,
   "metadata": {
    "collapsed": true
   },
   "outputs": [],
   "source": [
    "def train_algorithm(data,n_iter,learn_rate):\n",
    "    weights=[]\n",
    "    for i in range(1,np.shape(data)[1]):\n",
    "        weights.append(0)\n",
    "    for i in range (0,n_iter):\n",
    "        for k in range(0,len(data)):\n",
    "            inputs=data[k][0:np.shape(data)[1]-1]\n",
    "            label=data[k][np.shape(data)[1]-1:np.shape(data)[1]]\n",
    "            adder=0\n",
    "            for i in range (1,np.shape(data)[1]):\n",
    "                adder += inputs[i-1]*weights[i-1]\n",
    "            guess=activation((adder))\n",
    "            error=(label-guess)\n",
    "            weights=weights+learn_rate*(error*inputs)\n",
    "    return weights   "
   ]
  },
  {
   "cell_type": "code",
   "execution_count": 4,
   "metadata": {
    "collapsed": true
   },
   "outputs": [],
   "source": [
    "def test_algorithm(data,w):\n",
    "    predicted=[]\n",
    "    weights=w\n",
    "    for k in range(0,len(data)):\n",
    "        inputs=data[k][0:np.shape(data)[1]-1]\n",
    "        adder=0\n",
    "        for i in range(1,np.shape(data)[1]):\n",
    "            adder += inputs[i-1]*weights[i-1]\n",
    "        guess=activation(adder)\n",
    "        predicted.append(guess)\n",
    "    return predicted"
   ]
  },
  {
   "cell_type": "code",
   "execution_count": 5,
   "metadata": {
    "collapsed": true
   },
   "outputs": [],
   "source": [
    "def metrics(predicted, labels):\n",
    "    tp=0.0\n",
    "    fp=0.0\n",
    "    tn=0.0\n",
    "    fn=0.0\n",
    "    for i in range(0,len(labels)):\n",
    "        if (labels[i]==1):\n",
    "            if (predicted[i]==1):\n",
    "                tp+=1\n",
    "            else:\n",
    "                fn+=1\n",
    "        if (labels[i]==-1):\n",
    "            if (predicted[i]==-1):\n",
    "                tn+=1\n",
    "            else:\n",
    "                fp+=1\n",
    "    accuracy=(tp+tn)*1.0/(tp+tn+fp+fn)\n",
    "    return accuracy,tp,tn,fp,fn"
   ]
  },
  {
   "cell_type": "code",
   "execution_count": 6,
   "metadata": {
    "collapsed": true
   },
   "outputs": [],
   "source": [
    "def read_source(filename):\n",
    "    df1=pd.read_csv(filename, header=None)\n",
    "    data=df1.values\n",
    "    s=(np.shape(data)[0],np.shape(data)[1]+1)\n",
    "    a=np.ones(s)\n",
    "    for i in range(0,len(data)):\n",
    "        if (data[i][np.shape(data)[1]-1]==0):\n",
    "            data[i][np.shape(data)[1]-1]=-1\n",
    "    for i in range (0,np.shape(data)[1]):\n",
    "        for j in range(0,len(data)):\n",
    "            a[j][i+1]=data[j][i]\n",
    "    data=a\n",
    "    return data"
   ]
  },
  {
   "cell_type": "code",
   "execution_count": 7,
   "metadata": {
    "collapsed": true
   },
   "outputs": [],
   "source": [
    "def plotter(start,end,step):\n",
    "    y_axis=[]\n",
    "    train_data=read_source('train.txt')\n",
    "    learn_rate=0.001\n",
    "    for n_iter in range(start,end,step):\n",
    "        w=train_algorithm(train_data,n_iter,learn_rate)\n",
    "        test_data=read_source('test.txt')\n",
    "        predicted=test_algorithm(test_data,w)\n",
    "        labels=[]\n",
    "        for i in range(0,len(test_data)):\n",
    "            labels.append(test_data[i][np.shape(test_data)[1]-1])\n",
    "            labels[i]=int(labels[i])\n",
    "        accuracy,tp,tn,fp,fn= metrics(predicted,labels)\n",
    "        y_axis.append(accuracy)\n",
    "    xaxis = np.arange(start,end,step)\n",
    "    fig, ax = plt.subplots()\n",
    "    ax.plot(xaxis, y_axis, 'r')\n",
    "    ax.set_xlabel('No. of iterations (n_iter)')\n",
    "    ax.set_ylabel('Classification Accuracy')\n",
    "    plt.title('Response w.r.t n_iter')\n",
    "    plt.savefig('n_iter vs acc.pdf')\n",
    "    plt.show()\n",
    "    ymax=max(y_axis)\n",
    "    for i in range(start,end,step):\n",
    "        if(y_axis[i]==ymax):\n",
    "            n=i\n",
    "    return (n)\n",
    "    "
   ]
  },
  {
   "cell_type": "markdown",
   "metadata": {},
   "source": [
    "# Main Code Here"
   ]
  },
  {
   "cell_type": "code",
   "execution_count": 8,
   "metadata": {},
   "outputs": [
    {
     "name": "stdout",
     "output_type": "stream",
     "text": [
      "===We train and test our method by varying the number of iterations===\n",
      "===See the plot===\n"
     ]
    },
    {
     "data": {
      "image/png": "[encoded data removed]",
      "text/plain": [
       "<matplotlib.figure.Figure at 0x10ffc1090>"
      ]
     },
     "metadata": {},
     "output_type": "display_data"
    },
    {
     "name": "stdout",
     "output_type": "stream",
     "text": [
      "Best accuracy is obtained at n_iter = 44, so we select 44 iterations for our model\n",
      "\n",
      "The model built on the basis of 44 iterations for our learning performs as below\n",
      "\n",
      "\n",
      "Accuracy=67.914439 \n",
      "tp=56 \n",
      "tn=71 \n",
      "fp=32 \n",
      "fn=28\n",
      "\n",
      "Done\n",
      "\n"
     ]
    }
   ],
   "source": [
    "print \"===We train and test our method by varying the number of iterations===\\n===See the plot===\"\n",
    "start=0\n",
    "end=100\n",
    "step=1\n",
    "n_iter=plotter(start,end,step)\n",
    "print \"Best accuracy is obtained at n_iter = %d, so we select %d iterations for our model\\n\"%(n_iter,n_iter)\n",
    "\n",
    "train_data=read_source('train.txt')\n",
    "learn_rate=0.001\n",
    "w=train_algorithm(train_data,n_iter,learn_rate)\n",
    "\n",
    "test_data=read_source('test.txt')\n",
    "predicted=test_algorithm(test_data,w)\n",
    "labels=[]\n",
    "for i in range(0,len(test_data)):\n",
    "    labels.append(test_data[i][np.shape(test_data)[1]-1])\n",
    "    labels[i]=int(labels[i])\n",
    "accuracy,tp,tn,fp,fn= metrics(predicted,labels)\n",
    "print \"The model built on the basis of %d iterations for our learning performs as below\\n\"%(n_iter)\n",
    "print \"\\nAccuracy=%f \\ntp=%d \\ntn=%d \\nfp=%d \\nfn=%d\\n\"%(accuracy*100,tp,tn,fp,fn)\n",
    "print \"Done\\n\""
   ]
  }
 ],
 "metadata": {
  "kernelspec": {
   "display_name": "Python 2",
   "language": "python",
   "name": "python2"
  },
  "language_info": {
   "codemirror_mode": {
    "name": "ipython",
    "version": 2
   },
   "file_extension": ".py",
   "mimetype": "text/x-python",
   "name": "python",
   "nbconvert_exporter": "python",
   "pygments_lexer": "ipython2",
   "version": "2.7.14"
  }
 },
 "nbformat": 4,
 "nbformat_minor": 2
}
