{
 "cells": [
  {
   "cell_type": "code",
   "execution_count": 1,
   "metadata": {},
   "outputs": [
    {
     "name": "stdout",
     "output_type": "stream",
     "text": [
      "Welcome to 2.7.14 |Anaconda custom (64-bit)| (default, Oct  5 2017, 02:28:52) \n",
      "[GCC 4.2.1 Compatible Clang 4.0.1 (tags/RELEASE_401/final)]\n",
      "\n",
      "\n",
      "===Importing the necessary libraries for the project===\n"
     ]
    }
   ],
   "source": [
    "'''\n",
    "Created by Avik Bhattacharya\n",
    "CMPS 4720/6720 Homework: Implement your own classification algorithm\n",
    "'''\n",
    "\n",
    "import sys\n",
    "print \"Welcome to %s\\n\\n\"%sys.version\n",
    "print '===Importing the necessary libraries for the project==='\n",
    "import numpy as np\n",
    "import pandas as pd\n",
    "import matplotlib.pyplot as plt  "
   ]
  },
  {
   "cell_type": "code",
   "execution_count": 2,
   "metadata": {
    "collapsed": true
   },
   "outputs": [],
   "source": [
    "'''\n",
    "Sign function is used to activate the neuron\n",
    "'''\n",
    "def activation(x):\n",
    "    if x>1:\n",
    "        return 1\n",
    "    else:\n",
    "        return 0"
   ]
  },
  {
   "cell_type": "code",
   "execution_count": 3,
   "metadata": {
    "collapsed": true
   },
   "outputs": [],
   "source": [
    "'''\n",
    "Stochastic gradient descent used for learning weights\n",
    "'''\n",
    "def train_algorithm(data,n_iter,learn_rate):\n",
    "    weights=[]\n",
    "    '''\n",
    "    The weight vector is initialised with all zeros\n",
    "    '''\n",
    "    for i in range(1,np.shape(data)[1]):\n",
    "        weights.append(0)\n",
    "    for i in range (0,n_iter):\n",
    "        for k in range(0,len(data)):\n",
    "            inputs=data[k][0:np.shape(data)[1]-1]\n",
    "            label=data[k][np.shape(data)[1]-1:np.shape(data)[1]]\n",
    "            adder=0\n",
    "            for i in range (1,np.shape(data)[1]):\n",
    "                adder += inputs[i-1]*weights[i-1]\n",
    "            guess=activation((adder))\n",
    "            error=(label-guess)\n",
    "            weights=weights+learn_rate*(error*inputs)\n",
    "    return weights   "
   ]
  },
  {
   "cell_type": "code",
   "execution_count": 4,
   "metadata": {
    "collapsed": true
   },
   "outputs": [],
   "source": [
    "'''\n",
    "Learned weights used for sample classification using trained model\n",
    "'''\n",
    "def test_algorithm(data,w):\n",
    "    predicted=[]\n",
    "    weights=w\n",
    "    for k in range(0,len(data)):\n",
    "        inputs=data[k][0:np.shape(data)[1]-1]\n",
    "        adder=0\n",
    "        for i in range(1,np.shape(data)[1]):\n",
    "            adder += inputs[i-1]*weights[i-1]\n",
    "        guess=activation(adder)\n",
    "        predicted.append(guess)\n",
    "    return predicted"
   ]
  },
  {
   "cell_type": "code",
   "execution_count": 5,
   "metadata": {
    "collapsed": true
   },
   "outputs": [],
   "source": [
    "'''\n",
    "Accuracy, TP, TN, FP, FN are evaluated\n",
    "'''\n",
    "def metrics(predicted, labels):\n",
    "    tp=0.0\n",
    "    fp=0.0\n",
    "    tn=0.0\n",
    "    fn=0.0\n",
    "    for i in range(0,len(labels)):\n",
    "        if (labels[i]==1):\n",
    "            if (predicted[i]==1):\n",
    "                tp+=1\n",
    "            else:\n",
    "                fn+=1\n",
    "        if (labels[i]==0):\n",
    "            if (predicted[i]==0):\n",
    "                tn+=1\n",
    "            else:\n",
    "                fp+=1\n",
    "    accuracy=(tp+tn)*1.0/(tp+tn+fp+fn)\n",
    "    return accuracy,tp,tn,fp,fn"
   ]
  },
  {
   "cell_type": "code",
   "execution_count": 6,
   "metadata": {
    "collapsed": true
   },
   "outputs": [],
   "source": [
    "'''\n",
    "Function to return a feature set and labels ready to train classifier \n",
    "'''\n",
    "def read_source(filename):\n",
    "    df1=pd.read_csv(filename, header=None)\n",
    "    data=df1.values\n",
    "    '''\n",
    "    for loop used swap first and last column because initially\n",
    "    the model was developed considering the last column to be label,\n",
    "    so modified it to keep up with the pattern earlier developed\n",
    "    '''\n",
    "    for i in range (0,len(data)):\n",
    "        temp=data[i][0]\n",
    "        data[i][0]=data[i][np.shape(data)[1]-1]\n",
    "        data[i][np.shape(data)[1]-1]=temp\n",
    "    s=(np.shape(data)[0],np.shape(data)[1]+1)\n",
    "    a=np.ones(s)\n",
    "    '''\n",
    "    label 1 is kept as 1\n",
    "    label 0 converted to -1\n",
    "    '''\n",
    "    '''\n",
    "    for i in range(0,len(data)):\n",
    "        if (data[i][np.shape(data)[1]-1]==0):\n",
    "            data[i][np.shape(data)[1]-1]=0\n",
    "    '''\n",
    "    '''\n",
    "    padding extra 1s at x0 positions\n",
    "    '''\n",
    "    for i in range (0,np.shape(data)[1]):\n",
    "        for j in range(0,len(data)):\n",
    "            a[j][i+1]=data[j][i]\n",
    "    data=a\n",
    "    return data"
   ]
  },
  {
   "cell_type": "code",
   "execution_count": 7,
   "metadata": {
    "collapsed": true
   },
   "outputs": [],
   "source": [
    "'''\n",
    "Plotter function\n",
    "'''\n",
    "def plotter(start,end,step):\n",
    "    y_axis=[]\n",
    "    train_data=read_source('train.txt')\n",
    "    learn_rate=0.001\n",
    "    for n_iter in range(start,end,step):\n",
    "        w=train_algorithm(train_data,n_iter,learn_rate)\n",
    "        test_data=read_source('test.txt')\n",
    "        predicted=test_algorithm(test_data,w)\n",
    "        labels=[]\n",
    "        for i in range(0,len(test_data)):\n",
    "            labels.append(test_data[i][np.shape(test_data)[1]-1])\n",
    "            labels[i]=int(labels[i])\n",
    "        accuracy,tp,tn,fp,fn= metrics(predicted,labels)\n",
    "        y_axis.append(accuracy)\n",
    "    xaxis = np.arange(start,end,step)\n",
    "    fig, ax = plt.subplots()\n",
    "    ax.plot(xaxis, y_axis, 'r')\n",
    "    ax.set_xlabel('No. of iterations (n_iter)')\n",
    "    ax.set_ylabel('Classification Accuracy')\n",
    "    plt.title('Accuracy w.r.t n_iter')\n",
    "    plt.savefig('n_iter vs acc.pdf')\n",
    "    plt.show()\n",
    "    ymax=max(y_axis)\n",
    "    for i in range(start,end,step):\n",
    "        if(y_axis[i]==ymax):\n",
    "            n=i\n",
    "    return (n)\n",
    "    "
   ]
  },
  {
   "cell_type": "markdown",
   "metadata": {},
   "source": [
    "# Main Code Here"
   ]
  },
  {
   "cell_type": "code",
   "execution_count": 8,
   "metadata": {},
   "outputs": [
    {
     "name": "stdout",
     "output_type": "stream",
     "text": [
      "===We train and test our method by varying the number of iterations===\n",
      "===See the plot===\n"
     ]
    },
    {
     "data": {
      "image/png": "[encoded data removed]",
      "text/plain": [
       "<matplotlib.figure.Figure at 0x10727e150>"
      ]
     },
     "metadata": {},
     "output_type": "display_data"
    },
    {
     "name": "stdout",
     "output_type": "stream",
     "text": [
      "Best accuracy is obtained at n_iter = 95, so we select 95 iterations for our model\n",
      "\n",
      "[ 0.79   0.1    0.025 -0.007 -0.091  0.071  0.005  0.064  0.095  0.145\n",
      " -0.019  0.005  0.129  0.02   0.127 -0.034 -0.015  0.092  0.084  0.036\n",
      "  0.054  0.065 -0.02 ]\n",
      "The model built on the basis of 95 iterations for our learning performs as below\n",
      "\n",
      "\n",
      "Accuracy=76.470588 \n",
      "tp=130 \n",
      "tn=13 \n",
      "fp=2 \n",
      "fn=42\n",
      "\n",
      "Done\n",
      "\n"
     ]
    }
   ],
   "source": [
    "print \"===We train and test our method by varying the number of iterations===\\n===See the plot===\"\n",
    "'''\n",
    "Start, stop and step values for the plotter function\n",
    "'''\n",
    "\n",
    "start=0\n",
    "end=100\n",
    "step=1\n",
    "n_iter=plotter(start,end,step)\n",
    "print \"Best accuracy is obtained at n_iter = %d, so we select %d iterations for our model\\n\"%(n_iter,n_iter)\n",
    "\n",
    "train_data=read_source('train.txt')\n",
    "learn_rate=0.001\n",
    "w=train_algorithm(train_data,n_iter,learn_rate)\n",
    "print w\n",
    "test_data=read_source('test.txt')\n",
    "predicted=test_algorithm(test_data,w)\n",
    "labels=[]\n",
    "for i in range(0,len(test_data)):\n",
    "    labels.append(test_data[i][np.shape(test_data)[1]-1])\n",
    "    labels[i]=int(labels[i])\n",
    "accuracy,tp,tn,fp,fn= metrics(predicted,labels)\n",
    "print \"The model built on the basis of %d iterations for our learning performs as below\\n\"%(n_iter)\n",
    "print \"\\nAccuracy=%f \\ntp=%d \\ntn=%d \\nfp=%d \\nfn=%d\\n\"%(accuracy*100,tp,tn,fp,fn)\n",
    "print \"Done\\n\""
   ]
  },
  {
   "cell_type": "code",
   "execution_count": null,
   "metadata": {
    "collapsed": true
   },
   "outputs": [],
   "source": []
  }
 ],
 "metadata": {
  "kernelspec": {
   "display_name": "Python 2",
   "language": "python",
   "name": "python2"
  },
  "language_info": {
   "codemirror_mode": {
    "name": "ipython",
    "version": 2
   },
   "file_extension": ".py",
   "mimetype": "text/x-python",
   "name": "python",
   "nbconvert_exporter": "python",
   "pygments_lexer": "ipython2",
   "version": "2.7.14"
  }
 },
 "nbformat": 4,
 "nbformat_minor": 2
}
