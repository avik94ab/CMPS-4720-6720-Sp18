{
 "cells": [
  {
   "cell_type": "code",
   "execution_count": 1,
   "metadata": {
    "collapsed": true
   },
   "outputs": [],
   "source": [
    "import torch\n",
    "import numpy as np\n",
    "import matplotlib.pyplot as plt\n",
    "\n",
    "from torch.autograd import Variable\n",
    "from sklearn import datasets\n",
    "from sklearn.model_selection import train_test_split\n",
    "from sklearn.metrics import accuracy_score\n",
    "iris = datasets.load_iris()\n",
    "\n",
    "'''\n",
    "Imported Iris dataset from the sklearn dataset library\n",
    "'''\n",
    "X = iris.data[:, :4]\n",
    "y = iris.target\n",
    "'''\n",
    "Splitting the set into training and testing\n",
    "'''\n",
    "X_train, X_test, y_train, y_test = train_test_split(X, y, test_size=0.33, random_state=42)\n",
    "'''\n",
    "Creating tensors for the input and output variable\n",
    "'''\n",
    "x = Variable(torch.from_numpy(X_train).float())\n",
    "y = Variable(torch.from_numpy(y_train).float(), requires_grad=False)\n",
    "'''\n",
    "The model and loss function are defined.\n",
    "The input is the number of features, first hidden layer has 35 neurons, second has 35\n",
    "The output is one single output giving a real value.\n",
    "We threshold it after that.\n",
    "Loss function is the Mean Squared Error(MSE)\n",
    "'''\n",
    "model = torch.nn.Sequential(\n",
    "    torch.nn.Linear(np.shape(x)[1], 10),\n",
    "    torch.nn.ReLU(),\n",
    "    torch.nn.Linear(10, 10),\n",
    "    torch.nn.ReLU(),\n",
    "    torch.nn.Linear(10, 1),\n",
    "    \n",
    ")\n",
    "loss_fn = torch.nn.MSELoss(size_average=False)\n",
    "\n",
    "'''\n",
    "NN is trained over n_iter number of epochs \n",
    "'''\n",
    "n_iter=5000\n",
    "learning_rate = 1e-4\n",
    "'''\n",
    "Adam: A Method for Stochastic Optimization is implemented\n",
    "'''\n",
    "optimizer = torch.optim.Adam(model.parameters(), lr=learning_rate)\n",
    "\n",
    "for t in range(n_iter):\n",
    "    \n",
    "    y_pred = model(x)\n",
    "\n",
    "    \n",
    "    loss = loss_fn(y_pred, y)\n",
    "    #print(t, loss.data[0])\n",
    "    '''\n",
    "    Gradient is set to zero\n",
    "    '''\n",
    "    \n",
    "    model.zero_grad()\n",
    "\n",
    "    '''\n",
    "    Backpropagation\n",
    "    '''\n",
    "    loss.backward()\n",
    "\n",
    "    '''\n",
    "    Weights of the model are updated using gradient descent\n",
    "    \n",
    "    \n",
    "    for param in model.parameters():\n",
    "        param.data -= learning_rate * param.grad.data\n",
    "    '''\n",
    "    \n",
    "    optimizer.step()\n",
    "    "
   ]
  },
  {
   "cell_type": "code",
   "execution_count": 2,
   "metadata": {
    "collapsed": true
   },
   "outputs": [],
   "source": [
    "\n",
    "x_test = Variable(torch.from_numpy(X_test).float())\n",
    "'''\n",
    "NN is used to predict labels for test data\n",
    "'''\n",
    "y_pred = model(x_test)\n",
    "y_pred = y_pred.data.numpy()"
   ]
  },
  {
   "cell_type": "code",
   "execution_count": 3,
   "metadata": {
    "collapsed": true
   },
   "outputs": [],
   "source": [
    "\n",
    "'''\n",
    "Code to convert the real values to labels 0/1/2\n",
    "'''\n",
    "for i in range(0,len(y_pred)):\n",
    "    if y_pred[i]<0.5:\n",
    "        y_pred[i]=0.0\n",
    "    elif y_pred[i]>=0.5 and y_pred[i]<1.5:\n",
    "        y_pred[i]=1\n",
    "    else:\n",
    "        y_pred[i]=2"
   ]
  },
  {
   "cell_type": "code",
   "execution_count": 5,
   "metadata": {},
   "outputs": [
    {
     "name": "stdout",
     "output_type": "stream",
     "text": [
      "Accuracy:100%\n"
     ]
    }
   ],
   "source": [
    "accuracy = accuracy_score(y_test, y_pred)\n",
    "\n",
    "print 'Accuracy:%d%%'%(accuracy*100.00)\n"
   ]
  },
  {
   "cell_type": "code",
   "execution_count": null,
   "metadata": {
    "collapsed": true
   },
   "outputs": [],
   "source": []
  },
  {
   "cell_type": "code",
   "execution_count": null,
   "metadata": {
    "collapsed": true
   },
   "outputs": [],
   "source": []
  },
  {
   "cell_type": "code",
   "execution_count": null,
   "metadata": {
    "collapsed": true
   },
   "outputs": [],
   "source": []
  },
  {
   "cell_type": "code",
   "execution_count": null,
   "metadata": {
    "collapsed": true
   },
   "outputs": [],
   "source": []
  },
  {
   "cell_type": "code",
   "execution_count": null,
   "metadata": {
    "collapsed": true
   },
   "outputs": [],
   "source": []
  }
 ],
 "metadata": {
  "kernelspec": {
   "display_name": "Python 2",
   "language": "python",
   "name": "python2"
  },
  "language_info": {
   "codemirror_mode": {
    "name": "ipython",
    "version": 2
   },
   "file_extension": ".py",
   "mimetype": "text/x-python",
   "name": "python",
   "nbconvert_exporter": "python",
   "pygments_lexer": "ipython2",
   "version": "2.7.14"
  }
 },
 "nbformat": 4,
 "nbformat_minor": 2
}
