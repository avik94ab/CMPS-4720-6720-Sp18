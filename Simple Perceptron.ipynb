{
 "cells": [
  {
   "cell_type": "markdown",
   "metadata": {},
   "source": [
    "# Machine Learning Homework- Simple Perceptron\n",
    "\n",
    "Due Date-02/15/18\n",
    "\n",
    "Avik Bhattacharya\n"
   ]
  },
  {
   "cell_type": "markdown",
   "metadata": {},
   "source": [
    "# Information about the datasets:\n",
    "\n",
    "Training set file is named as test.txt\n",
    "\n",
    "Testing set file is named as train.txt\n",
    "\n",
    "Both files are in the same folder as the notebook\n",
    "\n",
    "'pandas' and 'numpy' are used for minor data reading and matrix manipulation respectively."
   ]
  },
  {
   "cell_type": "code",
   "execution_count": 6,
   "metadata": {},
   "outputs": [
    {
     "name": "stdout",
     "output_type": "stream",
     "text": [
      "===Importing the necessary libraries for the project===\n"
     ]
    }
   ],
   "source": [
    "print '===Importing the necessary libraries for the project==='\n",
    "import numpy as np\n",
    "import pandas as pd"
   ]
  },
  {
   "cell_type": "markdown",
   "metadata": {},
   "source": [
    "# Necessary Functions Defined\n",
    "\n",
    "The sign function is used as activation function"
   ]
  },
  {
   "cell_type": "code",
   "execution_count": 7,
   "metadata": {
    "collapsed": true
   },
   "outputs": [],
   "source": [
    "def activation(x):\n",
    "    if x>=0:\n",
    "        return 1\n",
    "    else:\n",
    "        return -1"
   ]
  },
  {
   "cell_type": "code",
   "execution_count": 8,
   "metadata": {
    "collapsed": true
   },
   "outputs": [],
   "source": [
    "def train_algorithm(data,n_iter,learn_rate):\n",
    "    weights=[]\n",
    "    print 'Intializing the weight matrix with all 0s'\n",
    "    for i in range(1,np.shape(data)[1]):\n",
    "        weights.append(0)\n",
    "    for i in range (0,1000):\n",
    "        for k in range(0,len(data)):\n",
    "            inputs=data[k][0:np.shape(data)[1]-1]\n",
    "            label=data[k][np.shape(data)[1]-1:np.shape(data)[1]]\n",
    "            adder=0\n",
    "            for i in range (1,np.shape(data)[1]):\n",
    "                adder += inputs[i-1]*weights[i-1]\n",
    "            guess=activation(adder)\n",
    "            error=(label-guess)\n",
    "            weights=weights+learn_rate*(error*inputs)\n",
    "    return weights   "
   ]
  },
  {
   "cell_type": "code",
   "execution_count": 9,
   "metadata": {
    "collapsed": true
   },
   "outputs": [],
   "source": [
    "def test_algorithm(data,w):\n",
    "    predicted=[]\n",
    "    weights=w\n",
    "    for k in range(0,len(data)):\n",
    "        inputs=data[k][0:np.shape(data)[1]-1]\n",
    "        adder=0\n",
    "        for i in range(1,np.shape(data)[1]):\n",
    "            adder += inputs[i-1]*weights[i-1]\n",
    "        guess=activation(adder)\n",
    "        predicted.append(guess)\n",
    "    return predicted"
   ]
  },
  {
   "cell_type": "code",
   "execution_count": 10,
   "metadata": {
    "collapsed": true
   },
   "outputs": [],
   "source": [
    "def metrics(predicted, labels):\n",
    "    tp=0.0\n",
    "    fp=0.0\n",
    "    tn=0.0\n",
    "    fn=0.0\n",
    "    for i in range(0,len(labels)):\n",
    "        if (labels[i]==1):\n",
    "            if (predicted[i]==1):\n",
    "                tp+=1\n",
    "            else:\n",
    "                fn+=1\n",
    "        if (labels[i]==-1):\n",
    "            if (predicted[i]==-1):\n",
    "                tn+=1\n",
    "            else:\n",
    "                fp+=1\n",
    "    accuracy=(tp+tn)*1.0/(tp+tn+fp+fn)\n",
    "    return accuracy,tp,tn,fp,fn"
   ]
  },
  {
   "cell_type": "code",
   "execution_count": 11,
   "metadata": {
    "collapsed": true
   },
   "outputs": [],
   "source": [
    "def read_source(filename):\n",
    "    df1=pd.read_csv(filename, header=None)\n",
    "    data=df1.values\n",
    "    s=(np.shape(data)[0],np.shape(data)[1]+1)\n",
    "    print '\\n Padding your feature set with 1s to produce bias'\n",
    "    a=np.ones(s)\n",
    "    for i in range(0,len(data)):\n",
    "        if (data[i][np.shape(data)[1]-1]==0):\n",
    "            data[i][np.shape(data)[1]-1]=-1\n",
    "    for i in range (0,np.shape(data)[1]):\n",
    "        for j in range(0,len(data)):\n",
    "            a[j][i+1]=data[j][i]\n",
    "    data=a\n",
    "    return data"
   ]
  },
  {
   "cell_type": "markdown",
   "metadata": {},
   "source": [
    "# Main Code Here"
   ]
  },
  {
   "cell_type": "code",
   "execution_count": 12,
   "metadata": {},
   "outputs": [
    {
     "name": "stdout",
     "output_type": "stream",
     "text": [
      "Specify the number of iterations you want to run the learning for?\n",
      "\n",
      "10\n",
      "\n",
      " Padding your feature set with 1s to produce bias\n",
      "Reading your training set.....\n",
      "\n",
      "\n",
      "Intializing the weight matrix with all 0s\n",
      "\n",
      " Here are the weights of your model post training.....\n",
      "\n",
      "\n",
      "\n",
      "[-0.004  0.002 -0.016  0.     0.008  0.004  0.008  0.     0.004 -0.014\n",
      " -0.004  0.01   0.    -0.002 -0.002  0.     0.006  0.    -0.002  0.038\n",
      " -0.012  0.004  0.002]\n",
      "\n",
      " Padding your feature set with 1s to produce bias\n",
      "\n",
      " Gatthering the performance metrices for you....\n",
      "\n",
      "Accuracy=59.893048 \n",
      " TP=37 \n",
      " tn=75 \n",
      " fp=28 \n",
      " fn=47\n",
      "Done\n"
     ]
    }
   ],
   "source": [
    "n_iter=input('Specify the number of iterations you want to run the learning for?\\n\\n')\n",
    "train_data=read_source('train.txt')\n",
    "learn_rate=0.001\n",
    "print 'Reading your training set.....\\n\\n'\n",
    "w=train_algorithm(train_data,n_iter,learn_rate)\n",
    "print '\\n Here are the weights of your model post training.....\\n\\n\\n'\n",
    "print w\n",
    "test_data=read_source('test.txt')\n",
    "predicted=test_algorithm(test_data,w)\n",
    "labels=[]\n",
    "for i in range(0,len(test_data)):\n",
    "    labels.append(test_data[i][np.shape(test_data)[1]-1])\n",
    "    labels[i]=int(labels[i])\n",
    "print '\\n Gatthering the performance metrices for you....\\n'\n",
    "accuracy,tp,tn,fp,fn= metrics(predicted,labels)\n",
    "print \"Accuracy=%f \\n TP=%d \\n tn=%d \\n fp=%d \\n fn=%d\"%(accuracy*100,tp,tn,fp,fn)\n",
    "print \"Done\""
   ]
  },
  {
   "cell_type": "code",
   "execution_count": null,
   "metadata": {
    "collapsed": true
   },
   "outputs": [],
   "source": []
  },
  {
   "cell_type": "code",
   "execution_count": null,
   "metadata": {
    "collapsed": true
   },
   "outputs": [],
   "source": []
  },
  {
   "cell_type": "code",
   "execution_count": null,
   "metadata": {
    "collapsed": true
   },
   "outputs": [],
   "source": []
  }
 ],
 "metadata": {
  "kernelspec": {
   "display_name": "Python 2",
   "language": "python",
   "name": "python2"
  },
  "language_info": {
   "codemirror_mode": {
    "name": "ipython",
    "version": 2
   },
   "file_extension": ".py",
   "mimetype": "text/x-python",
   "name": "python",
   "nbconvert_exporter": "python",
   "pygments_lexer": "ipython2",
   "version": "2.7.14"
  }
 },
 "nbformat": 4,
 "nbformat_minor": 2
}
